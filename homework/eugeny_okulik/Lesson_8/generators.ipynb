{
 "cells": [
  {
   "cell_type": "markdown",
   "metadata": {},
   "source": [
    "Generator function"
   ]
  },
  {
   "cell_type": "code",
   "execution_count": 17,
   "metadata": {},
   "outputs": [
    {
     "name": "stdout",
     "output_type": "stream",
     "text": [
      "Lorem ipsum dolor sit amet \n",
      "consectetur adipiscing elit. \n",
      "Sed vitae sem egestas, molestie \n",
      "nisl aliquet, laoreet risus. \n",
      "Nulla vehicula vitae urna at consequat. \n",
      "Nam vitae dignissim enim. Curabitur massa \n",
      "est, auctor auctor neque vitae, tincidunt \n",
      "pharetra diam. Pellentesque cursus hendrerit \n",
      "ullamcorper. Suspendisse pellentesque erat \n",
      "metus, at imperdiet odio molestie id. Pellentesque \n",
      "vel ipsum sit amet magna rutrum luctus. \n",
      "Fusce lacinia vehicula felis nec cursus.\n",
      "\n"
     ]
    }
   ],
   "source": [
    "text = '''Lorem ipsum dolor sit amet \n",
    "consectetur adipiscing elit. \n",
    "Sed vitae sem egestas, molestie \n",
    "nisl aliquet, laoreet risus. \n",
    "Nulla vehicula vitae urna at consequat. \n",
    "Nam vitae dignissim enim. Curabitur massa \n",
    "est, auctor auctor neque vitae, tincidunt \n",
    "pharetra diam. Pellentesque cursus hendrerit \n",
    "ullamcorper. Suspendisse pellentesque erat \n",
    "metus, at imperdiet odio molestie id. Pellentesque \n",
    "vel ipsum sit amet magna rutrum luctus. \n",
    "Fusce lacinia vehicula felis nec cursus.\n",
    "'''\n",
    "\n",
    "def separate(text_to_saparate):\n",
    "    # separated_text = text_to_saparate.split('\\n')\n",
    "    # print(separated_text)\n",
    "    for line in text_to_saparate.split('\\n'):\n",
    "        yield line\n",
    "\n",
    "\n",
    "function_result = separate(text)\n",
    "for x in function_result:\n",
    "    print(x)\n",
    "\n",
    "\n"
   ]
  },
  {
   "cell_type": "code",
   "execution_count": 24,
   "metadata": {},
   "outputs": [
    {
     "name": "stdout",
     "output_type": "stream",
     "text": [
      "199999998\n"
     ]
    }
   ],
   "source": [
    "def progression():\n",
    "    n = 2\n",
    "    start_num = 0\n",
    "    while True:\n",
    "        yield start_num\n",
    "        start_num += n\n",
    "\n",
    "\n",
    "count = 0\n",
    "for num  in progression():\n",
    "    count += 1\n",
    "    if count == 100000000:\n",
    "        print(num)\n",
    "        break\n"
   ]
  },
  {
   "cell_type": "code",
   "execution_count": 28,
   "metadata": {},
   "outputs": [
    {
     "name": "stdout",
     "output_type": "stream",
     "text": [
      "hello\n",
      "bye\n"
     ]
    }
   ],
   "source": [
    "def x():\n",
    "    yield 'hello'\n",
    "    print('bye')\n",
    "\n",
    "for y in x():\n",
    "    print(y)"
   ]
  },
  {
   "cell_type": "code",
   "execution_count": 30,
   "metadata": {},
   "outputs": [
    {
     "name": "stdout",
     "output_type": "stream",
     "text": [
      "<class 'list'>\n",
      "<class 'generator'>\n"
     ]
    }
   ],
   "source": [
    "l = [1, 3, 5]\n",
    "new_list = [x for x in l]\n",
    "print(type(new_list))\n",
    "x = (x for x in l)\n",
    "print(type(x))"
   ]
  }
 ],
 "metadata": {
  "kernelspec": {
   "display_name": "Python 3",
   "language": "python",
   "name": "python3"
  },
  "language_info": {
   "codemirror_mode": {
    "name": "ipython",
    "version": 3
   },
   "file_extension": ".py",
   "mimetype": "text/x-python",
   "name": "python",
   "nbconvert_exporter": "python",
   "pygments_lexer": "ipython3",
   "version": "3.10.12"
  }
 },
 "nbformat": 4,
 "nbformat_minor": 2
}
